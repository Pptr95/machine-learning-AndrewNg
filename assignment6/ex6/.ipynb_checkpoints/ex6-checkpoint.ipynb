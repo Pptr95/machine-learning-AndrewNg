{
 "cells": [
  {
   "cell_type": "markdown",
   "metadata": {},
   "source": [
    "# Support Vector Machine"
   ]
  },
  {
   "cell_type": "markdown",
   "metadata": {},
   "source": [
    "### Example Dataset 1"
   ]
  },
  {
   "cell_type": "code",
   "execution_count": 4,
   "metadata": {},
   "outputs": [
    {
     "name": "stdout",
     "output_type": "stream",
     "text": [
      "Loading and Visualizing Data ...\n",
      "\n"
     ]
    }
   ],
   "source": [
    "print('Loading and Visualizing Data ...\\n')"
   ]
  },
  {
   "cell_type": "code",
   "execution_count": 182,
   "metadata": {},
   "outputs": [
    {
     "data": {
      "image/png": "[encoded data removed]",
      "text/plain": [
       "<Figure size 432x288 with 1 Axes>"
      ]
     },
     "metadata": {},
     "output_type": "display_data"
    }
   ],
   "source": [
    "import scipy.io as sio\n",
    "import matplotlib.pyplot as plt\n",
    "\n",
    "data = sio.loadmat('ex6data1.mat')\n",
    "X = data['X']\n",
    "y = data['y']\n",
    "\n",
    "#Plots the data points X and y into a new figure \n",
    "def plotDataClassification(X, y):\n",
    "    for index,val in enumerate(y):\n",
    "        if y[index] == 0:\n",
    "            plt.scatter(X[index, 0], X[index, 1], color='blue', s=7)\n",
    "        else:\n",
    "            plt.scatter(X[index, 0], X[index, 1], color='red', s=7)\n",
    "\n",
    "    tolerance = 0.3\n",
    "    plt.axis([min(X[:, 0]) - tolerance, max(X[:, 0]) + tolerance, min(X[:, 1]) - tolerance, max(X[:, 1]) + tolerance])        \n",
    "    plt.xlabel('X axes')\n",
    "    plt.ylabel('y axes')\n",
    "    plt.show()\n",
    "    \n",
    "plotDataClassification(X, y)\n"
   ]
  },
  {
   "cell_type": "code",
   "execution_count": null,
   "metadata": {},
   "outputs": [],
   "source": [
    "\n"
   ]
  },
  {
   "cell_type": "code",
   "execution_count": null,
   "metadata": {},
   "outputs": [],
   "source": [
    "\n"
   ]
  },
  {
   "cell_type": "code",
   "execution_count": null,
   "metadata": {},
   "outputs": [],
   "source": []
  },
  {
   "cell_type": "code",
   "execution_count": null,
   "metadata": {},
   "outputs": [],
   "source": []
  }
 ],
 "metadata": {
  "kernelspec": {
   "display_name": "Python 3",
   "language": "python",
   "name": "python3"
  },
  "language_info": {
   "codemirror_mode": {
    "name": "ipython",
    "version": 3
   },
   "file_extension": ".py",
   "mimetype": "text/x-python",
   "name": "python",
   "nbconvert_exporter": "python",
   "pygments_lexer": "ipython3",
   "version": "3.6.5"
  }
 },
 "nbformat": 4,
 "nbformat_minor": 2
}
