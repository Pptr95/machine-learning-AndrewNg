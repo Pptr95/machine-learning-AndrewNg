{
 "cells": [
  {
   "cell_type": "markdown",
   "metadata": {},
   "source": [
    "# Recommender Systems"
   ]
  },
  {
   "cell_type": "markdown",
   "metadata": {},
   "source": [
    "The purpose of this notebook is to implement a recommendation engine end-to-end.\n",
    "There are three main ways to approch a recommender system challenge: **Content Based Recommendations**, **Collaborative Filtering** and **Low Rank Factorization** or **Latent Factor Models**."
   ]
  },
  {
   "cell_type": "markdown",
   "metadata": {},
   "source": [
    "## Content Based Recommedations\n",
    "This approach is called like that because we assume that we have available to us features for the different movies that capture what is the content of these movies (how romantic is, how much action is present in the movies, $\\dots$)."
   ]
  },
  {
   "cell_type": "markdown",
   "metadata": {},
   "source": [
    "Suppose the following scenario: you might have a set of movies and you may have a set of users, each who have rated some subset of the movies.\n",
    "Suppose they have rated the movies 0 to 5 stars. <br>\n",
    "What we would like to do is look at these users and predict how they would have rated other movies that they have not yet rated."
   ]
  },
  {
   "cell_type": "markdown",
   "metadata": {},
   "source": [
    "<img src=\"img/img4.png\" alt=\"problem motivation\" style=\"width: 700px;\"/>"
   ]
  },
  {
   "cell_type": "markdown",
   "metadata": {},
   "source": [
    "Here we take into account the following table of movie ratings. <br>\n",
    "We want to predict the value to insert instead of the question marks. <br>\n",
    "Let's suppose that fo each of the movies we have a set of feature for them. <br>\n",
    "In this case we have two feature: $x_1$ that measures how romantic is a movie and $x_2$ that measures how much action is present in the movie.\n",
    "So if we have a feature like these, then each movie can be represented with a feature vector. For example the feature vector for the movie one \"Love at last\" would be $x^{(1)} = [1 \\space \\space 0.9 \\space \\space 0]^T$ (the first value, which is 1, represent the interceptor therm).\n",
    "Now, in order to make a prediction, we could treat predicting the ratings of each users as a separate **Linear Regression** problem. <br>\n",
    "But to apply Linear Regression we need the $\\theta^{(j)}$ parameters which represent in this case, for each user, how much they like romance and action movies. Let's suppose, for now, that some unspecified algorithm has learned these parameters $\\theta^{(j)}$."
   ]
  },
  {
   "cell_type": "markdown",
   "metadata": {},
   "source": [
    "#### Problem formulation"
   ]
  },
  {
   "cell_type": "markdown",
   "metadata": {},
   "source": [
    "$r(i, j) = 1$ if user $j$ has rated movie $i$ (0 otherwise) <br>\n",
    "$y^{(i, j)} = $ rating by user $j$ on movie $i$ (if defined) <br>\n",
    "$\\theta^{(i)} = $ parameter vector for user $j$ <br>\n",
    "$x^{(i)} = $ feature vector for movie $i$ <br>\n",
    "$m^{(j)} = $ number of movies rated by user $j$ <br>\n",
    "$n_{u} = $ number of users $j$ <br>\n",
    "\n",
    "For user $j$, movie $i$, predict rating as: $(\\theta^{(j)})^T(x^{(i)})$"
   ]
  },
  {
   "cell_type": "markdown",
   "metadata": {},
   "source": [
    "To learn $\\theta^{(j)}$ (parameter for user $j$):\n",
    "$$ J(\\theta^{(j)}) = \\min_{\\theta^{(j)}} \\frac{1}{2} \\sum_{i:r(i, j)=1} \\Big((\\theta^{(j)})^T x^{(i)} - y^{(i, j)} \\Big)^2 + \\frac{\\lambda}{2} \\sum_{k=1}^n (\\theta^{(j)}_k)^2$$\n",
    "Note that this is a Linear Regression cost function and note that we added the regularization therm (regularizing from $k$ = 1 up to $n$ and not up to $n + 1$ since the interceptor therm do not need to be regularized)."
   ]
  },
  {
   "cell_type": "markdown",
   "metadata": {},
   "source": [
    "Now, of course, we do not want just to learn the parameter $\\theta^{(j)}$ for a single user, but we want learn the parameter for all of our users. <br>\n",
    "To learn $\\theta^{(1)}, \\theta^{(2)}, \\dots , \\theta^{(n_u)}$:\n",
    "$$ J(\\theta^{(1)}, \\dots, \\theta^{(n_u)}) = \\min_{\\theta^{(1)}, \\dots, \\theta^{(n_u)}} \\frac{1}{2} \\sum_{j=1}^{n_u} \\sum_{i:r(i, j)=1} \\Big((\\theta^{(j)})^T x^{(i)} - y^{(i, j)} \\Big)^2 + \\frac{\\lambda}{2} \\sum_{j=1}^{n_u} \\sum_{k=1}^n (\\theta^{(j)}_k)^2$$"
   ]
  },
  {
   "cell_type": "markdown",
   "metadata": {},
   "source": [
    "To find the best values of $\\theta^{(1)}, \\dots, \\theta^{(n_u)}$, and namely minimize the cost function $J(\\theta^{(1)}, \\dots, \\theta^{(n_u)})$ above, we can use **gradient descent**:"
   ]
  },
  {
   "cell_type": "markdown",
   "metadata": {},
   "source": [
    "$\\theta^{(j)}_k := \\theta^{(j)}_k -\\alpha \\sum_{i:r(i, j)=1} \\Big((\\theta^{(j)})^T x^{(i)} - y^{(i, j)} \\Big)x^{(i)}_k $ (for $k = 0$)"
   ]
  },
  {
   "cell_type": "markdown",
   "metadata": {},
   "source": [
    "$\\theta^{(j)}_k := \\theta^{(j)}_k -\\alpha \\Big( \\sum_{i:r(i, j)=1} \\Big((\\theta^{(j)})^T x^{(i)} - y^{(i, j)} \\Big)x^{(i)}_k + \\lambda \\theta^{(j)}_k \\Big)$ (for $k \\neq 0 $)"
   ]
  },
  {
   "cell_type": "markdown",
   "metadata": {},
   "source": [
    "## Collaborative Filtering"
   ]
  },
  {
   "cell_type": "markdown",
   "metadata": {},
   "source": [
    "We use Collaborative Filtering when we have the following problem: suppose to have a dataset of movies along with the ratings of the users but we do not have the set of feature for each movie, so we do not know how romantic is a movie or how much action in present in a movie. <br>\n",
    "We are in the situazion shown by the following table:"
   ]
  },
  {
   "cell_type": "markdown",
   "metadata": {},
   "source": [
    "<img src=\"img/img2.png\" alt=\"problem motivation\" style=\"width: 700px;\"/>"
   ]
  },
  {
   "cell_type": "markdown",
   "metadata": {},
   "source": [
    "#### Assumption"
   ]
  },
  {
   "cell_type": "markdown",
   "metadata": {},
   "source": [
    "Before proceeding with the solution, let's make a slightly different assumption. <br>\n",
    "Let's say we've gone to each of our users, and each of our users has told has told us how much they like the romantic movies and how much they like action packed movies. So basically specifies to us of how much they like different types of movies. So Alice has associated a current of $\\theta^{(1)}$, Bob $\\theta^{(2)}$, Carol $\\theta^{(3)}$ and Dave $\\theta^{(4)}$."
   ]
  },
  {
   "cell_type": "markdown",
   "metadata": {},
   "source": [
    "<img src=\"img/img3.png\" alt=\"problem motivation\" style=\"width: 450px;\"/>"
   ]
  },
  {
   "cell_type": "markdown",
   "metadata": {},
   "source": [
    "If we can get these parameters $\\theta^{(j)}$ from our users then it turns out that it becomes possible to try to infer what are the values of $x_1$ and $x_2$ for each movie.\n",
    "Let's look at the example of the movie 1, \"Love at last\". <br>\n",
    "All we know is that Alice and Bob loved this movie whereas Carol and Dave hated it. <br>\n",
    "So what can we infer? <br>\n",
    "Well, we know from the feature vectors $\\theta^{(j)}$ that Alice and Bob love romantic movies because they told us that (in their feature vector has a 5 in the position of the feature $x_1$ which repesent the *romance* -- remembering that the first value in the feature vectors $\\theta^{(j)}$ represent the interceptor therm $x_0$) and that they both rated \"Love at last\" with a 5. By contrast, Carol and Dave did not like romantic movies (they told us, as we can see from $\\theta^{(3)}$ and $\\theta^{(4)}$) and they both rated \"Love at last\" with a 0. <br>\n",
    "So based on the fact that \"Love at last\" is loved by Alice and Bob that love romantic movies and hated by Carol and Dave that hate romantic movies, we might reasonably conclude that \"Love at last\" is probably a romantic movie and is probably it is not much an action movie."
   ]
  },
  {
   "cell_type": "markdown",
   "metadata": {},
   "source": [
    "So, what we are really asking is how the feature vector $x^{(1)}$ should be so that: <br>\n",
    "$(\\theta^{(1)})^T x^{(1)} \\approx$ 5 <br>\n",
    "$(\\theta^{(2)})^T x^{(1)} \\approx$ 5 <br>\n",
    "$(\\theta^{(3)})^T x^{(1)} \\approx$ 0 <br>\n",
    "$(\\theta^{(4)})^T x^{(1)} \\approx$ 0 <br>"
   ]
  },
  {
   "cell_type": "markdown",
   "metadata": {},
   "source": [
    "#### Problem Formulation"
   ]
  },
  {
   "cell_type": "markdown",
   "metadata": {},
   "source": [
    "$r(i, j) = 1$ if user $j$ has rated movie $i$ (0 otherwise) <br>\n",
    "$y^{(i, j)} = $ rating by user $j$ on movie $i$ (if defined) <br>\n",
    "$\\theta^{(i)} = $ parameter vector for user $j$ <br>\n",
    "$x^{(i)} = $ feature vector for movie $i$ <br>\n",
    "$m^{(j)} = $ number of movies rated by user $j$ <br>\n",
    "$n_{u} = $ number of users $j$ <br>\n",
    "$n_{m} = $ number of movies $j$ <br>\n",
    "\n",
    "For user $j$, movie $i$, predict rating as: $(\\theta^{(j)})^T(x^{(i)})$"
   ]
  },
  {
   "cell_type": "markdown",
   "metadata": {},
   "source": [
    "For one movie, given $\\theta^{(1)}, \\dots , \\theta^{(n_u)}$, to learn $x^{(i)}:$\n",
    "$$ J(x^{(i)}) = \\min_{x^{(i)}} \\frac{1}{2} \\sum_{j:r(i, j)=1} \\Big((\\theta^{(j)})^T x^{(i)} - y^{(i, j)} \\Big)^2 + \\frac{\\lambda}{2} \\sum_{k=1}^n (x^{(i)}_k)^2$$"
   ]
  },
  {
   "cell_type": "markdown",
   "metadata": {},
   "source": [
    "For all movies, given $\\theta^{(1)}, \\dots , \\theta^{(n_u)}$, to learn $x^{(1)}, \\dots, x^{(n_m)}:$\n",
    "$$ J(x^{(1)}, \\dots, x^{(n_m)}) =\\min_{x^{(1)}, \\dots, x^{(n_m)}} \\frac{1}{2} \\sum_{i=1}^{n_m} \\sum_{j:r(i, j)=1} \\Big((\\theta^{(j)})^T x^{(i)} - y^{(i, j)} \\Big)^2 + \\frac{\\lambda}{2} \\sum_{i=1}^{n_m} \\sum_{k=1}^n (x^{(i)}_k)^2$$"
   ]
  },
  {
   "cell_type": "markdown",
   "metadata": {},
   "source": [
    "### Collaborative Filtering Algorithm"
   ]
  },
  {
   "cell_type": "markdown",
   "metadata": {},
   "source": [
    "#### Non Efficient Algorithm"
   ]
  },
  {
   "cell_type": "markdown",
   "metadata": {},
   "source": [
    "We can build a first version of our **Collaborative Filtering** with a combination of *Content Based Recommendations* approach and the approach adopted in our *assumption*."
   ]
  },
  {
   "cell_type": "markdown",
   "metadata": {},
   "source": [
    "With *Content Based Recommendation* approach we showed that given $x^{(1)}, \\dots, x^{(n_m)}$ (feature for each movie) and movie rating, then we can estimate $\\theta^{(1)}, \\dots, \\theta^{(n_u)}$. <br>\n",
    "With the above *assumption* approach we showed that given $\\theta^{(1)}, \\dots, \\theta^{(n_u)}$ (parameter for each user) and movie rating, then we can estimate $x^{(1)}, \\dots, x^{(n_m)}$."
   ]
  },
  {
   "cell_type": "markdown",
   "metadata": {},
   "source": [
    "This is an **chicken and egg problem**, who comes first? <br>\n",
    "What we can do is: <br>\n",
    "$1-$ randomly guess some value of $\\theta^{(1)}, \\dots, \\theta^{(n_u)}$. <br>\n",
    "$2-$ then use the approach showed in our *assumption* section to estimate $x^{(1)}, \\dots, x^{(n_m)}$. <br>\n",
    "$3-$ then use *Content Based Recommendations* approach to estimate $\\theta^{(1)}, \\dots, \\theta^{(n_u)}$. Jump to $2$. <br>\n",
    "\n",
    "So that: Guess $ \\theta \\rightarrow x \\rightarrow \\theta \\rightarrow x \\rightarrow \\theta \\rightarrow x \\rightarrow \\theta \\rightarrow x \\rightarrow \\dots$ <br>\n",
    "\n",
    "This will actually cause the algorithm to converge to a reasonable set of feature for the movies and a reasonable set of parameters for the different users. <br>\n",
    "This is possible only beacause each user rates multiple movies and each movie is rated by multiple users, so you can do this back and forth process to estimate $\\theta$ and $x$."
   ]
  },
  {
   "cell_type": "markdown",
   "metadata": {},
   "source": [
    "#### Efficient Algorithm"
   ]
  },
  {
   "cell_type": "markdown",
   "metadata": {},
   "source": [
    "It turns out that there is a more efficient algorithm that doesn not need to go back and forth between $x$ and $\\theta$ but that can solve them simultaneously."
   ]
  },
  {
   "cell_type": "markdown",
   "metadata": {},
   "source": [
    "What we are going to do is basically take the cost function of the *Content Based Recommendation* approach $J(\\theta^{(1)}, \\dots, \\theta^{(n_u)})$ and the cost function of our *assumption* $J(x^{(1)}, \\dots, x^{(n_m)})$ and put them together obtaining the new following cost function which we need to minimize in order to find the best value of $x$ and $\\theta$:\n",
    "\n",
    "$$J(x^{(1)}, \\cdots , x^{(n_m)}, \\theta^{(1)}, \\cdots , \\theta^{(n_u)}) = \\frac{1}{2} \\sum_{(i,j):r(i,j)=1}\\Big((\\theta^{(j)})^T x^{(i)} - y^{(i,j)}\\Big)^2 + \\Big( \\frac{\\lambda}{2} \\sum_{j=1}^{n_u} \\sum_{k=1}^n (\\theta_k^{(j)})^2 \\Big) + \\Big( \\frac{\\lambda}{2} \\sum_{i=1}^{n_m} \\sum_{k=1}^n (x_k^{(i)})^2 \\Big)$$\n",
    "\n",
    "$$ \\min_{x^{(1)}, \\cdots , x^{(n_m)}, \\theta^{(1)}, \\cdots , \\theta^{(n_u)}} J(x^{(1)}, \\cdots , x^{(n_m)}, \\theta^{(1)}, \\cdots , \\theta^{(n_u)}) $$"
   ]
  },
  {
   "cell_type": "markdown",
   "metadata": {},
   "source": [
    "#### Putting everything together"
   ]
  },
  {
   "cell_type": "markdown",
   "metadata": {},
   "source": [
    "$1-$ Initialize $x^{(1)}, \\cdots , x^{(n_m)}, \\theta^{(1)}, \\cdots , \\theta^{(n_u)}$ to small random values. <br>\n",
    "$2-$ Minimize $J(x^{(1)}, \\cdots , x^{(n_m)}, \\theta^{(1)}, \\cdots , \\theta^{(n_u)})$ using gradient descent (or an advance optimization algorithm). <br>\n",
    "For every $j = 1, \\dots , n_u, i = 1, \\dots , n_m$: <br>\n",
    "\n",
    "$x^{(i)}_k := x^{(i)}_k -\\alpha \\Big( \\sum_{j:r(i, j)=1} \\Big((\\theta^{(j)})^T x^{(i)} - y^{(i, j)} \\Big)\\theta^{(j)}_k + \\lambda x^{(i)}_k \\Big)$\n",
    "\n",
    "$\\theta^{(j)}_k := \\theta^{(j)}_k -\\alpha \\Big( \\sum_{i:r(i, j)=1} \\Big((\\theta^{(j)})^T x^{(i)} - y^{(i, j)} \\Big)x^{(i)}_k + \\lambda \\theta^{(j)}_k \\Big)$\n",
    "\n",
    "**Note**: in previous cost function $J(x^{(1)}, \\cdots , x^{(n_m)}, \\theta^{(1)}, \\cdots , \\theta^{(n_u)})$ we got rid of $x_0$ and $\\theta_0$, so these update of gradient descent is done for all the value and there is no special case for $k = 0$.\n",
    "\n",
    "$3-$ For a user $j$ with parameters $\\theta$ and a movie $i$ with (learned) features $x$, predict a star rating of $(\\theta^{(j)})^T (x^{(i)})$."
   ]
  },
  {
   "cell_type": "markdown",
   "metadata": {},
   "source": [
    "## Low Rank Matrix Factorization"
   ]
  },
  {
   "cell_type": "markdown",
   "metadata": {},
   "source": [
    "*Low Rank Matrix Factorization* is essentialy an alternative way of writing out the predicitions of the *Collaborative Filtering* algorithm."
   ]
  },
  {
   "cell_type": "markdown",
   "metadata": {},
   "source": [
    "$Y$ matrix represents all the ratings by all the users $j$ to movie $i$. So $y^{(i, j)}$ represents the the rating given to movie $i$ by user $j$. <br>\n",
    "Given this matrix $Y$ of all ratings, there is an alternatively way of writing out all the predicted ratings of the algorithm. In particular what user $j$ predicts on movie $i$ is given by the formula $(\\theta^{(j)})^T (x^{(i)})$."
   ]
  },
  {
   "cell_type": "markdown",
   "metadata": {},
   "source": [
    "<img src=\"img/img5.png\" alt=\"problem motivation\" style=\"width: 600px;\"/>"
   ]
  },
  {
   "cell_type": "markdown",
   "metadata": {},
   "source": [
    "Now, given this matrix of predicted ratings, it turns out that there is a simpler of *vectorized* way of writing these out. <br>\n",
    "In particular, if you take the $X$ matrix, which is thr matrix that contains all of the features for the different movies, and the $\\theta$ matrix which contains the parameter vectors for each user, in order to have a vectorized way of computing the matrix of all the predictions, you can just do it by computing:\n",
    "$$X \\theta^T$$"
   ]
  },
  {
   "cell_type": "markdown",
   "metadata": {},
   "source": [
    "### Mean normalization"
   ]
  },
  {
   "cell_type": "markdown",
   "metadata": {},
   "source": [
    "Don't forget to normalize the matrix $Y$! <br>\n",
    "Before training the model, you need to mean normalize the $Y$ matrix, namely you should subtract each row with the mean of that row **but** remember to consider only the values that has a rate (namely, has a 1 in the respective position of matrix $R$). <br>\n",
    "\n",
    "After that, you can train the model with the normalized $Y$ matrix. <br>\n",
    "After ran the model and computed the prediction matrix $X \\theta^T$, in order to obtain the right ratings, you should add to the prediction matrix the mean (that you have previously calculated in the normalization phase) for each row."
   ]
  },
  {
   "cell_type": "markdown",
   "metadata": {},
   "source": [
    "## Find related movies"
   ]
  },
  {
   "cell_type": "markdown",
   "metadata": {},
   "source": [
    "Finally we have gotten is the cool section, **how to recommend related movies to a user**?"
   ]
  },
  {
   "cell_type": "markdown",
   "metadata": {},
   "source": [
    "You can recommend a movie to a user based on the predictions which our collaborative filtering algorithm has calculated on the movies which our user has not seen yet. <br>\n",
    "To do that,  for a user $j$, it is enough to choose the best $n$ movies which the user $j$ has not seen yet that have the highest prediction from the predictions matrix $X \\theta^T$."
   ]
  },
  {
   "cell_type": "markdown",
   "metadata": {},
   "source": [
    "Or, you could recommend movies similar between them. <br>\n",
    "For first we need to run our algorithm in order to learn a feature vector $x^{(i)} \\in \\mathcal{R}^{n}$ for each movie (or product in general) $x^{(i)}$.\n",
    "Then, to find which movie $k$ is related to movie $i$, we need a mechanism to measure *how similar* are two different movies. <br>\n",
    "This mechanism is to compute the *distance* between the feature of the movies. If this distance is *small*, then this could be a pretty strong indication that the movie $k$ and $i$ are somehow \"*similar*\"."
   ]
  },
  {
   "cell_type": "markdown",
   "metadata": {},
   "source": [
    "$$ small \\space \\lVert x^{(k)} - x^{(i)} \\rVert $$"
   ]
  },
  {
   "cell_type": "markdown",
   "metadata": {},
   "source": [
    "To find the 5 most similar movies to movie $k$, you just need to find the 5 movies $i$ with the smallest $\\lVert x^{(k)} - x^{(i)} \\rVert$ and this could give you a few different movies to recommend to your user."
   ]
  },
  {
   "cell_type": "markdown",
   "metadata": {},
   "source": [
    "## Exercise"
   ]
  },
  {
   "cell_type": "markdown",
   "metadata": {},
   "source": [
    "Now we will implement the collaborative filtering learnig algorithm and apply it to a dataset of movie ratings. This dataset consists of ratings on a scale of 1 to 5. The dataset has $n_u = 943$ users and $n_m = 1682$ movies."
   ]
  },
  {
   "cell_type": "code",
   "execution_count": 336,
   "metadata": {},
   "outputs": [],
   "source": [
    "import scipy.io as sio\n",
    "import matplotlib.pyplot as plt\n",
    "import numpy as np\n",
    "import pandas as pd\n",
    "import scipy.optimize\n",
    "import time\n",
    "import random"
   ]
  },
  {
   "cell_type": "markdown",
   "metadata": {},
   "source": [
    "### Functions"
   ]
  },
  {
   "cell_type": "code",
   "execution_count": 432,
   "metadata": {},
   "outputs": [],
   "source": [
    "def computeCost(Theta, X, Y, R):\n",
    "    i = (R[:, :] == 1).nonzero()[0]\n",
    "    j = (R[:, :] == 1).nonzero()[1]\n",
    "    J = 0\n",
    "    for k in range(i.size):\n",
    "        J += 1/2*(np.dot(Theta[j[k], :], X[i[k]].T) - Y[i[k], j[k]])**2\n",
    "    return J\n",
    "                                                  \n",
    "def gradientDescent(Theta, X, Y, R, alpha, iterations):\n",
    "    J_history = np.zeros((iterations, 1))\n",
    "    for k in range(iterations): \n",
    "        X = X - alpha*(np.dot((R*np.dot(Theta, X.T).T) - Y, Theta))\n",
    "        Theta = Theta - alpha*(np.dot(((R*np.dot(Theta, X.T).T) - Y).T, X))\n",
    "        J_history[k] = computeCost(Theta, X, Y, R)\n",
    "    return X, Theta, J_history\n",
    "\n",
    "\n",
    "def computeCostReg(Theta, X, Y, R, lamda):\n",
    "    return (1/2)*(sum(sum((R*np.dot(Theta, X.T).T - Y)**2))) + (lamda/2 *sum(sum((Theta)**2))) + (lamda/2 *sum(sum((X)**2)))\n",
    "\n",
    "\n",
    "def gradientDescentReg(Theta, X, Y, R, alpha, iterations, lamda):\n",
    "    J_history = np.zeros((iterations, 1))\n",
    "    for k in range(iterations): \n",
    "        X = X - alpha*(np.dot((R*np.dot(Theta, X.T).T) - Y, Theta)) + (lamda*X)\n",
    "        Theta = Theta - alpha*(np.dot(((R*np.dot(Theta, X.T).T) - Y).T, X)) + (lamda*Theta)\n",
    "        J_history[k] = computeCostReg(Theta, X, Y, R, lamda)\n",
    "    return X, Theta, J_history\n",
    "\n",
    "\n",
    "def cofiCostFunction(weights, num_movies, num_features, num_users, R, Y, lamda):\n",
    "    #X = weights[0:num_movies, 0:num_features]\n",
    "    #Theta = weights[num_movies:, 0:num_features]\n",
    "    X = weights[0:num_movies * (num_features)].reshape(num_movies, num_features) #contains n features per movie\n",
    "    Theta = weights[num_movies * (num_features):].reshape(num_users, num_features) #contains n features per user \n",
    "    J = (1/2)*(sum(sum((R*np.dot(Theta, X.T).T - Y)**2))) + (lamda/2 *sum(sum((Theta)**2))) + (lamda/2 *sum(sum((X)**2)))\n",
    "    X_grad = np.dot((R*np.dot(Theta, X.T).T) - Y, Theta) + (lamda*X)\n",
    "    Theta_grad = np.dot(((R*np.dot(Theta, X.T).T) - Y).T, X) + (lamda*Theta)\n",
    "    return J, np.vstack((X_grad, Theta_grad))\n",
    "\n",
    "\n",
    "def loadMovieList(filename):\n",
    "    with open(filename, encoding=\"ISO-8859-1\") as f:\n",
    "        content = f.readlines()\n",
    "        # you may also want to remove whitespace characters like `\\n` at the end of each line\n",
    "        content = [x.strip() for x in content]\n",
    "    return content\n",
    "\n",
    "def normalizeRatings(Y, R):\n",
    "    m = Y.shape[0]\n",
    "    Ymean = np.zeros((m, 1))\n",
    "    Ynorm = np.zeros((m, Y.shape[1]))\n",
    "    for index in range(m):\n",
    "        Ymean[index] = np.mean(Y[index, (R[index, :] == 1).nonzero()])\n",
    "        Ynorm[index, (R[index, :] == 1).nonzero()] = Y[index, (R[index, :] == 1).nonzero()] - Ymean[index]\n",
    "    return Ynorm, Ymean\n",
    "\n",
    "def normalizeRatings2(Y, R):\n",
    "    m = Y.shape[0]\n",
    "    n = Y.shape[1]\n",
    "    Ymean = np.zeros((m, 1))\n",
    "    Ynorm = np.zeros((m, n))\n",
    "    for i in range(m):\n",
    "        countN = 0\n",
    "        for j in range(n):\n",
    "            if R[i, j] == 1:\n",
    "                Ymean[i] = Ymean[i] + Y[i, j]\n",
    "                countN += 1\n",
    "        Ymean[i] = Ymean[i] / countN\n",
    "        \n",
    "    for i2 in range(m):\n",
    "        for j2 in range(n):\n",
    "            if R[i2, j2] == 1:\n",
    "                Ynorm[i2, j2] = Y[i2, j2] - Ymean[i2]\n",
    "    return Ynorm, Ymean"
   ]
  },
  {
   "cell_type": "markdown",
   "metadata": {},
   "source": [
    "### Running the model on pre-trained weights\n",
    "This is just to check that the cost function works as expected. The printed value is a benchmark calculated on smaller matrices and offered during Andrew Ng's course, and my result perfectly matches his. So, good news, we can go ahead."
   ]
  },
  {
   "cell_type": "code",
   "execution_count": 201,
   "metadata": {},
   "outputs": [
    {
     "data": {
      "text/plain": [
       "31.344056244274213"
      ]
     },
     "execution_count": 201,
     "metadata": {},
     "output_type": "execute_result"
    }
   ],
   "source": [
    "data = sio.loadmat('ex8_movies.mat')\n",
    "data2 = sio.loadmat('ex8_movieParams.mat')\n",
    "Y = data['Y']\n",
    "R = data['R']\n",
    "X = data2['X']\n",
    "Theta = data2['Theta']\n",
    "\n",
    "num_users = 4\n",
    "num_movies = 5\n",
    "num_features = 3\n",
    "X = X[0:num_movies, 0:num_features]\n",
    "Theta = Theta[0:num_users, 0:num_features]\n",
    "Y = Y[0:num_movies, 0:num_users]\n",
    "R = R[0:num_movies, 0:num_users]\n",
    "\n",
    "#weights = np.vstack((X, Theta))\n",
    "weights = np.vstack((X.reshape(X.size, 1), Theta.reshape(Theta.size, 1)))\n",
    "lamda = 1.5\n",
    "cost, grad = cofiCostFunction(weights, num_movies, num_features, num_users, R, Y, lamda)\n",
    "cost"
   ]
  },
  {
   "cell_type": "markdown",
   "metadata": {},
   "source": [
    "## Implementing the Low Rank Factorization Algorithm\n",
    "Here we are going to load the whole dataset ($Y$ and $R$) and \"visualizing\" the  $movies$ x $users$  (1682  ×  943) $Y$ matrix. <br>\n",
    "*imshow* nicely allows us to highlight the 1 to 5 ratings and the missing entries. As you can see the matrix is (as expected) pretty sparse."
   ]
  },
  {
   "cell_type": "code",
   "execution_count": 209,
   "metadata": {},
   "outputs": [
    {
     "data": {
      "image/png": "[encoded data removed]",
      "text/plain": [
       "<Figure size 720x576 with 2 Axes>"
      ]
     },
     "metadata": {
      "needs_background": "light"
     },
     "output_type": "display_data"
    }
   ],
   "source": [
    "data = scipy.io.loadmat('ex8_movies.mat')\n",
    "R = data['R']\n",
    "Y = data['Y']\n",
    "\n",
    "plt.figure(figsize=(10, 8))\n",
    "plt.imshow(Y, cmap='Blues')\n",
    "plt.colorbar()\n",
    "plt.title('Movies x Users matrix')\n",
    "plt.show()"
   ]
  },
  {
   "cell_type": "markdown",
   "metadata": {},
   "source": [
    "### New user ratings\n",
    "Before training the collaborative filtering model, we will first add ratings that correspond to a new user.\n",
    "Now we will put our own ratings on the movies within the dataset."
   ]
  },
  {
   "cell_type": "code",
   "execution_count": 570,
   "metadata": {},
   "outputs": [
    {
     "name": "stdout",
     "output_type": "stream",
     "text": [
      "1 Toy Story (1995) , rate:  4.0\n",
      "3 Four Rooms (1995) , rate:  1.0\n",
      "21 Muppet Treasure Island (1996) , rate:  2.0\n",
      "41 Billy Madison (1995) , rate:  3.0\n",
      "61 Three Colors: White (1994) , rate:  4.0\n",
      "81 Hudsucker Proxy, The (1994) , rate:  5.0\n",
      "98 Silence of the Lambs, The (1991) , rate:  2.0\n",
      "101 Heavy Metal (1981) , rate:  5.0\n",
      "121 Independence Day (ID4) (1996) , rate:  4.0\n",
      "141 20,000 Leagues Under the Sea (1954) , rate:  3.0\n",
      "161 Top Gun (1986) , rate:  2.0\n",
      "181 Return of the Jedi (1983) , rate:  1.0\n",
      "201 Evil Dead II (1987) , rate:  2.0\n",
      "221 Breaking the Waves (1996) , rate:  3.0\n",
      "241 Last of the Mohicans, The (1992) , rate:  4.0\n",
      "261 Air Bud (1997) , rate:  5.0\n",
      "281 River Wild, The (1994) , rate:  5.0\n",
      "301 In & Out (1997) , rate:  4.0\n"
     ]
    }
   ],
   "source": [
    "movieList = loadMovieList('movie_ids.txt')\n",
    "\n",
    "# initialize my ratings\n",
    "my_ratings = np.zeros((Y.shape[0], 1))\n",
    "\n",
    "# suppose we liked the first movie of our dataset (Toy Story (1995)), then we put for example 4/5 rate at the first\n",
    "# movie\n",
    "my_ratings[0] = 4\n",
    "\n",
    "# suppose we did not like the 98th movie (Silence of the Lambs (1991)), then we set a rate of 2\n",
    "my_ratings[97] = 2\n",
    "\n",
    "# here we select other movies and rate them\n",
    "my_ratings[2] = 1\n",
    "my_ratings[20] = 2\n",
    "my_ratings[40] = 3\n",
    "my_ratings[60] = 4\n",
    "my_ratings[80] = 5\n",
    "my_ratings[100] = 5\n",
    "my_ratings[120] = 4\n",
    "my_ratings[140] = 3\n",
    "my_ratings[160] = 2\n",
    "my_ratings[180] = 1\n",
    "my_ratings[200] = 2\n",
    "my_ratings[220] = 3\n",
    "my_ratings[240] = 4\n",
    "my_ratings[260] = 5\n",
    "my_ratings[280] = 5\n",
    "my_ratings[300] = 4\n",
    "\n",
    "# print our ratings\n",
    "for index in range(my_ratings.size):\n",
    "    if my_ratings[index] > 0:\n",
    "        print(movieList[index], \", rate: \", my_ratings[index][0])"
   ]
  },
  {
   "cell_type": "markdown",
   "metadata": {},
   "source": [
    "Now we have to adjust $Y$ matrix and $R$ matrix since we added a new user and then we will proceed by trining the collaborative filtering model."
   ]
  },
  {
   "cell_type": "code",
   "execution_count": 571,
   "metadata": {},
   "outputs": [],
   "source": [
    "data = sio.loadmat('ex8_movies.mat')\n",
    "Y = data['Y']\n",
    "R = data['R']\n",
    "\n",
    "Y = np.c_[Y, my_ratings]\n",
    "Rsingle = np.where(Y[:, Y.shape[1] - 1] > 0, 1 , 0).reshape(-1, 1)\n",
    "R = np.c_[R, Rsingle]"
   ]
  },
  {
   "cell_type": "code",
   "execution_count": 572,
   "metadata": {},
   "outputs": [
    {
     "name": "stdout",
     "output_type": "stream",
     "text": [
      "Training executed in 4.92 minutes\n"
     ]
    }
   ],
   "source": [
    "# normalize ratings\n",
    "Ynorm, Ymean = normalizeRatings(Y, R)\n",
    "\n",
    "# useful values\n",
    "num_users = Y.shape[1]\n",
    "num_movies = Y.shape[0]\n",
    "num_features = 100\n",
    "\n",
    "# initialize X and Theta\n",
    "X = np.random.rand(num_movies, num_features)\n",
    "Theta = np.random.rand(num_users, num_features)\n",
    "weights = np.vstack((X.reshape(X.size, 1), Theta.reshape(Theta.size, 1)))\n",
    "\n",
    "# train the model using Ynorm\n",
    "start = time.time()\n",
    "\n",
    "opt_results = scipy.optimize.minimize(fun=cofiCostFunction, x0=weights.squeeze(), \n",
    "                                       args=(num_movies, num_features, num_users, R, Ynorm, lamda), \n",
    "                                       jac=True, method='TNC', options={'disp':True})\n",
    "end = time.time()\n",
    "total = end-start\n",
    "print(\"Training executed in\", round(total/60, 2), \"minutes\")"
   ]
  },
  {
   "cell_type": "code",
   "execution_count": 573,
   "metadata": {},
   "outputs": [],
   "source": [
    "X = opt_results.x[0:num_movies * (num_features)].reshape(num_movies, num_features) \n",
    "Theta = opt_results.x[num_movies * (num_features):].reshape(num_users, num_features)"
   ]
  },
  {
   "cell_type": "code",
   "execution_count": 576,
   "metadata": {},
   "outputs": [],
   "source": [
    "predictions = np.dot(X, Theta.T)\n",
    "predictions = predictions + Ymean\n",
    "\n",
    "# get prediction for user num_users - 1 (me)\n",
    "my_predictions = predictions[:, num_users - 1]"
   ]
  },
  {
   "cell_type": "markdown",
   "metadata": {},
   "source": [
    "### 20 film I have not seen yet and I cannot miss!"
   ]
  },
  {
   "cell_type": "code",
   "execution_count": 577,
   "metadata": {},
   "outputs": [
    {
     "name": "stdout",
     "output_type": "stream",
     "text": [
      "Movie:  1189 Prefontaine (1997) predicted rate:  5.0\n",
      "Movie:  1293 Star Kid (1997) predicted rate:  5.0\n",
      "Movie:  1122 They Made Me a Criminal (1939) predicted rate:  5.0\n",
      "Movie:  1467 Saint of Fort Washington, The (1993) predicted rate:  5.0\n",
      "Movie:  1599 Someone Else's America (1995) predicted rate:  5.0\n",
      "Movie:  1653 Entertaining Angels: The Dorothy Day Story (1996) predicted rate:  5.0\n",
      "Movie:  1500 Santa with Muscles (1996) predicted rate:  5.0\n",
      "Movie:  814 Great Day in Harlem, A (1994) predicted rate:  5.0\n",
      "Movie:  1201 Marlene Dietrich: Shadow and Light (1996) predicted rate:  5.0\n",
      "Movie:  1536 Aiqing wansui (1994) predicted rate:  5.0\n",
      "Movie:  190 Henry V (1989) predicted rate:  5.0\n",
      "Movie:  64 Shawshank Redemption, The (1994) predicted rate:  5.0\n",
      "Movie:  659 Arsenic and Old Lace (1944) predicted rate:  5.0\n",
      "Movie:  318 Schindler's List (1993) predicted rate:  5.0\n",
      "Movie:  182 GoodFellas (1990) predicted rate:  5.0\n",
      "Movie:  209 This Is Spinal Tap (1984) predicted rate:  5.0\n",
      "Movie:  134 Citizen Kane (1941) predicted rate:  5.0\n"
     ]
    }
   ],
   "source": [
    "# consider n = 20\n",
    "n = 20\n",
    "indices_best_movies = np.argsort(my_predictions)[::-1][:num_movies]\n",
    "\n",
    "for i in range(n):\n",
    "    if R[indices_best_movies[i], num_users - 1] == 0:\n",
    "        print(\"Movie: \", movieList[indices_best_movies[i]], \"predicted rate: \", round(my_predictions[indices_best_movies[i]]))\n"
   ]
  },
  {
   "cell_type": "markdown",
   "metadata": {},
   "source": [
    "### 20 recommended movies similar to Toy Story (1995)"
   ]
  },
  {
   "cell_type": "code",
   "execution_count": 580,
   "metadata": {},
   "outputs": [
    {
     "name": "stdout",
     "output_type": "stream",
     "text": [
      "Movie:  426 Transformers: The Movie, The (1986) predicted rate:  3.0\n",
      "Movie:  1558 Aparajito (1956) predicted rate:  4.0\n",
      "Movie:  608 Spellbound (1945) predicted rate:  4.0\n",
      "Movie:  936 Brassed Off (1996) predicted rate:  4.0\n",
      "Movie:  115 Haunted World of Edward D. Wood Jr., The (1995) predicted rate:  4.0\n",
      "Movie:  954 Unzipped (1995) predicted rate:  4.0\n",
      "Movie:  1251 A Chef in Love (1996) predicted rate:  4.0\n",
      "Movie:  1264 Nothing to Lose (1994) predicted rate:  3.0\n",
      "Movie:  1199 Cemetery Man (Dellamorte Dellamore) (1994) predicted rate:  3.0\n",
      "Movie:  539 Mouse Hunt (1997) predicted rate:  3.0\n",
      "Movie:  870 Touch (1997) predicted rate:  3.0\n",
      "Movie:  1117 Surviving Picasso (1996) predicted rate:  3.0\n",
      "Movie:  1229 Poison Ivy II (1995) predicted rate:  2.0\n",
      "Movie:  1518 Losing Isaiah (1995) predicted rate:  3.0\n",
      "Movie:  1612 Leading Man, The (1996) predicted rate:  3.0\n",
      "Movie:  1279 Wild America (1997) predicted rate:  3.0\n",
      "Movie:  623 Angels in the Outfield (1994) predicted rate:  3.0\n",
      "Movie:  923 Raise the Red Lantern (1991) predicted rate:  4.0\n",
      "Movie:  1232 Madonna: Truth or Dare (1991) predicted rate:  2.0\n"
     ]
    }
   ],
   "source": [
    "# consider n = 20\n",
    "n = 20\n",
    "\n",
    "# take into account movie 1  Toy Story (1995)\n",
    "movie1 = X[0, :]\n",
    "\n",
    "# compute distance\n",
    "Xdistance = np.zeros((X.shape[0], 1))\n",
    "for i in range(X.shape[0]):\n",
    "    Xdistance[i] = np.linalg.norm(movie1 - X[i, :])\n",
    "\n",
    "# get prediction for user num_users - 1 (me)\n",
    "my_predictions = predictions[:, num_users - 1]\n",
    "\n",
    "# get index of the movies most similar to Toy Story (1995) in ascending order\n",
    "indices_similar_movies = sorted(range(len(Xdistance)),key=Xdistance.__getitem__)\n",
    "\n",
    "# print first n most similar movies to Toy Story (1995)\n",
    "for i in range(n):\n",
    "    if R[indices_similar_movies[i], num_users - 1] == 0:\n",
    "        print(\"Movie: \", movieList[indices_similar_movies[i]], \"predicted rate: \", round(my_predictions[indices_similar_movies[i]]))\n"
   ]
  }
 ],
 "metadata": {
  "kernelspec": {
   "display_name": "Python 3",
   "language": "python",
   "name": "python3"
  },
  "language_info": {
   "codemirror_mode": {
    "name": "ipython",
    "version": 3
   },
   "file_extension": ".py",
   "mimetype": "text/x-python",
   "name": "python",
   "nbconvert_exporter": "python",
   "pygments_lexer": "ipython3",
   "version": "3.6.6"
  }
 },
 "nbformat": 4,
 "nbformat_minor": 2
}
