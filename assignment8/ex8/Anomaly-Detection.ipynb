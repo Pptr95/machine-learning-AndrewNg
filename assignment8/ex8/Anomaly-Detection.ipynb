{
 "cells": [
  {
   "cell_type": "markdown",
   "metadata": {},
   "source": [
    "# Anomaly Detection"
   ]
  },
  {
   "cell_type": "markdown",
   "metadata": {},
   "source": [
    "Anomaly detection is a technique used to identify unusual patterns that do not conform to expected behavior, called outliers. This idea is often used in fraud detection, manufacturing or monitoring of machines. \n",
    "The Anomaly detection algorithm can be implemented in several ways. Here we will show two methods: **Normal Gaussian Distribution** and **Multivariate Gaussian Distribution**. <br>"
   ]
  },
  {
   "cell_type": "markdown",
   "metadata": {},
   "source": [
    "### Normal Gaussian Distribution"
   ]
  },
  {
   "cell_type": "markdown",
   "metadata": {},
   "source": [
    "Using a *Normal Gaussian Distribution* algorithm implies that the example $x$ is distributed with a mean $Mu$ and variance $Sigma$ squared. <br>\n",
    "The steps to build the algorithm are: <br>\n",
    "\n",
    "1- Choose the features $x$ that might be indicative of anomalous examples <br>\n",
    "2- Calculate the parameters $Mu$ and $Sigma$ <br>\n",
    "3- Compute the probability $p$ of $x$ <br>\n",
    "4- Calculate the best threshold (epsilon value) based on the best F1-score using Cross Validation set<br>\n",
    "\n",
    "$$\\mu_j = \\frac{1}{m}\\sum_{i=1}^m x_j^{(i)} $$ <br>\n",
    "$$\\sigma_j^{2} = \\frac{1}{m}\\sum_{i=1}^m (x_j^{(i)} - \\mu_j)^{2} $$ <br>\n",
    "\n",
    "The formula for calculating the probability is:\n",
    "$$p(x) = \\prod_{j=1}^{n} p(x_j; \\mu_j, \\sigma_j^{2}) = \\prod_{j=1}^{n} \\frac{1}{\\sqrt{2\\pi}\\sigma_j} \\exp(- \\frac{(x_j - \\mu_j)^2}{2\\sigma_j^2})$$"
   ]
  },
  {
   "cell_type": "markdown",
   "metadata": {},
   "source": [
    "### Multivariate Gaussian Distribution"
   ]
  },
  {
   "cell_type": "markdown",
   "metadata": {},
   "source": [
    "In certain cases the Normal Gaussian Distribution is not enough the accurately flag anomalies. A multivariat Gaussian distribution calculates the probability model of $x$ at once, instead of modelling the probabilities for each feature alone. It uses a covariance matrix instead of Sigma squared.\n",
    "The steps to build the algorithm are: <br>\n",
    "\n",
    "1- Choose the features $x$ that might be indicative of anomalous examples <br>\n",
    "2- Calculate the parameters $Mu$ and $Covariance$ <br>\n",
    "3- Compute the probability $p$ of $x$ <br>\n",
    "4- Calculate the best threshold (epsilon value) based on the best F1-score using Cross Validation set<br>\n",
    "\n",
    "$$\\mu_j = \\frac{1}{m}\\sum_{i=1}^m x_j^{(i)} $$ <br>\n",
    "$$cov = \\frac{1}{m}\\sum_{i=1}^m (x^{(i)} - \\mu) (x^{(i)} - \\mu)^T $$ <br>\n",
    "The formula for calculating the probability is:\n",
    "$$p(x; \\mu, cov) = \\frac{1}{(2\\pi)^{\\frac{n}{2}}|cov|^{\\frac{1}{2}}} \\exp\\Big(- \\frac{1}{2} (x - \\mu)^T cov^{-1} (x - \\mu)\\Big)$$"
   ]
  },
  {
   "cell_type": "markdown",
   "metadata": {},
   "source": [
    "### Practical Tips and difference to a Supervised Learning system"
   ]
  },
  {
   "cell_type": "markdown",
   "metadata": {},
   "source": [
    "An anomaly detection system should be used if:\n",
    "\n",
    "  $\\bullet$ a large number of negative examples but a small number of positives examples are available <br>\n",
    "  $\\bullet$ the anomalies themselves cannot be classified and may vary in future examples <br>\n",
    "  \n",
    "If a classification can easily be done, ie having large numbers of positive and negative examples and future examples will be similar, it is advisable to use a supervised learning algorithm."
   ]
  },
  {
   "cell_type": "markdown",
   "metadata": {},
   "source": [
    "To analyse errors it makes sense to plot the features and see if they behave Gaussian. If not, constants (like log(x)) can be added, to try to make it look as Gaussian as possible."
   ]
  },
  {
   "cell_type": "markdown",
   "metadata": {},
   "source": [
    "The basic assumption for using anomaly detection system is to have few anomalous examples and many normal ones. If this is not met, the misclassified example should be inspected in order see if we can come up with a new feature that allows us to correctly classify anomalies."
   ]
  },
  {
   "cell_type": "markdown",
   "metadata": {},
   "source": [
    "If we use the **Normal Gaussian Distribution** it is probable that we manually need to create features to capture anomalies where the combination of other features take unusual values. For example if we have the features $x1$ (CPU load) and $x2$ (memory) that combined together (for example like $\\frac{CPU load}{memory}$) assume an unusual value, we may need to create a new feature to capture these anomalies.\n",
    "Normal Gaussian Distribution is computionally cheaper, scales better on large training sets size but works fine also on small training sets size."
   ]
  },
  {
   "cell_type": "markdown",
   "metadata": {},
   "source": [
    "Since **Multivariate Gaussian Distribution** use covariance matrix, it automatically catures correlations between features. So we do not need to manually create new feature.\n",
    "This algorithm is computationally more expensive that the previous.\n",
    "Moreover, it must have $m > n$ or else convariance matrix is non-invertible."
   ]
  },
  {
   "cell_type": "markdown",
   "metadata": {},
   "source": [
    "### Excercise\n",
    "In this exercise, we will implement an anomaly detection algorithm to detect anomalous behaviour in server computers. The features measure the throughput (mb/s) and latency (ms) of response of each server. While our servers were operating, we collected $m$ = 307 examples of how they were behaving, and thus have an unlabeled dataset $ \\{{x^{(1)}, \\dots, x^{(m)}} \\}$. We suspect that the vast majority of these examples are \"normal\" (non-anomalous), but there might also be some examples of servers acting anomalously within this dataset.\n",
    "We will use Gaussian models to detect anomalous examples in our dataset."
   ]
  },
  {
   "cell_type": "code",
   "execution_count": 31,
   "metadata": {},
   "outputs": [],
   "source": [
    "import pandas as pd\n",
    "import numpy as np\n",
    "import matplotlib.pyplot as plt\n",
    "import scipy.io as sio\n",
    "from numpy.linalg import inv"
   ]
  },
  {
   "cell_type": "markdown",
   "metadata": {},
   "source": [
    "## Functions"
   ]
  },
  {
   "cell_type": "code",
   "execution_count": 233,
   "metadata": {},
   "outputs": [],
   "source": [
    "def estimateGaussian(X):\n",
    "    mu = np.mean(X, axis=0)\n",
    "    sigma = np.std(X, axis=0)\n",
    "    return mu, sigma\n",
    "\n",
    "def gaussianDistribution(X, mu, sigma):\n",
    "    first = 1/np.sqrt(2*np.pi)*np.sqrt(sigma)\n",
    "    second = -((X - mu)**2)/(2*sigma)\n",
    "    return np.prod(first*np.exp(second), axis=1).reshape(-1, 1)\n",
    "\n",
    "def estimateMultivariateGaussian(X):\n",
    "    mu = np.mean(X, axis=1)\n",
    "    cov = np.cov(X)\n",
    "    return mu, cov\n",
    "\n",
    "def selectThreshold(yval, pval):\n",
    "    bestEpsilon = 0\n",
    "    bestF1 = 0\n",
    "    F1 = 0\n",
    "    stepsize = (max(pval) - min(pval)) / 1000\n",
    "    for epsilon in np.arange(min(pval), max(pval), stepsize):\n",
    "        cvPredictions = np.where(pval < epsilon, 1, 0)\n",
    "        tp = sum((cvPredictions == 1) & (yval == 1))\n",
    "        fp = sum((cvPredictions == 1) & (yval == 0))\n",
    "        fn = sum((cvPredictions == 0) & (yval == 1))\n",
    "        \n",
    "        precision = (tp) / (tp +  fp)\n",
    "        recall = (tp) / (tp +  fn)\n",
    "\n",
    "        F1 = (2* precision * recall)/(precision + recall)\n",
    "        \n",
    "        if F1 > bestF1:\n",
    "            bestF1 = F1\n",
    "            bestEpsilon = epsilon\n",
    "    return bestEpsilon, bestF1\n",
    "    "
   ]
  },
  {
   "cell_type": "markdown",
   "metadata": {},
   "source": [
    "## Normal Gaussian Distribution"
   ]
  },
  {
   "cell_type": "code",
   "execution_count": 246,
   "metadata": {},
   "outputs": [
    {
     "data": {
      "image/png": "[encoded data removed]",
      "text/plain": [
       "<Figure size 576x432 with 1 Axes>"
      ]
     },
     "metadata": {
      "needs_background": "light"
     },
     "output_type": "display_data"
    }
   ],
   "source": [
    "data = sio.loadmat('ex8data1.mat')\n",
    "X = data['X']\n",
    "fig = plt.figure(figsize=(8,6))\n",
    "plt.scatter(X[:, 0], X[:, 1], s=4)\n",
    "plt.xlabel('Latency (ms)')\n",
    "plt.ylabel('Throughout (mb/s)')\n",
    "plt.show()"
   ]
  },
  {
   "cell_type": "code",
   "execution_count": 247,
   "metadata": {},
   "outputs": [
    {
     "name": "stderr",
     "output_type": "stream",
     "text": [
      "/home/pptr/anaconda3/envs/fastai/lib/python3.6/site-packages/ipykernel_launcher.py:27: RuntimeWarning: invalid value encountered in true_divide\n"
     ]
    },
    {
     "name": "stdout",
     "output_type": "stream",
     "text": [
      "F1-score=[0.875], epsilon=0.00021173900744569037, number_of_anomalies=[6]\n"
     ]
    }
   ],
   "source": [
    "Xval = data['Xval']\n",
    "yval = data['yval']\n",
    "mu, sigma = estimateGaussian(X)\n",
    "p = gaussianDistribution(X, mu, sigma)\n",
    "pval = gaussianDistribution(Xval, mu, sigma)\n",
    "epsilon, F1 = selectThreshold(yval, pval)\n",
    "print(\"F1-score={0}, epsilon={1}, number_of_anomalies={2}\".format(F1, epsilon, sum(p < epsilon)))"
   ]
  },
  {
   "cell_type": "code",
   "execution_count": 248,
   "metadata": {},
   "outputs": [
    {
     "data": {
      "image/png": "[encoded data removed]",
      "text/plain": [
       "<Figure size 576x432 with 1 Axes>"
      ]
     },
     "metadata": {
      "needs_background": "light"
     },
     "output_type": "display_data"
    }
   ],
   "source": [
    "fig = plt.figure(figsize=(8,6))\n",
    "plt.scatter(X[:, 0], X[:, 1], s=4)\n",
    "plt.xlabel('Latency (ms)')\n",
    "plt.ylabel('Throughout (mb/s)')\n",
    "plt.scatter(X[(p < epsilon).nonzero()[0], 0], X[(p < epsilon).nonzero()[0], 1], s=70, color='red', facecolors='none')\n",
    "plt.show()"
   ]
  },
  {
   "cell_type": "markdown",
   "metadata": {},
   "source": [
    "### Normal Gaussian Distribution on dataset with many examples compared to the features"
   ]
  },
  {
   "cell_type": "code",
   "execution_count": 249,
   "metadata": {},
   "outputs": [
    {
     "name": "stderr",
     "output_type": "stream",
     "text": [
      "/home/pptr/anaconda3/envs/fastai/lib/python3.6/site-packages/ipykernel_launcher.py:27: RuntimeWarning: invalid value encountered in true_divide\n"
     ]
    },
    {
     "name": "stdout",
     "output_type": "stream",
     "text": [
      "F1-score=[0.19047619], epsilon=1.1683165534847689e-08, number_of_anomalies=[921]\n"
     ]
    }
   ],
   "source": [
    "data2 = sio.loadmat('ex8data2.mat')\n",
    "X = data2['X']\n",
    "Xval = data2['Xval']\n",
    "yval = data2['yval']\n",
    "\n",
    "mu, sigma = estimateGaussian(X)\n",
    "\n",
    "# Training set \n",
    "p = gaussianDistribution(X, mu, sigma)\n",
    "\n",
    "# Cross-validation set\n",
    "pval = gaussianDistribution(Xval, mu, sigma)\n",
    "\n",
    "# Find the best threshold\n",
    "epsilon, F1 = selectThreshold(yval, pval)\n",
    "print(\"F1-score={0}, epsilon={1}, number_of_anomalies={2}\".format(F1, epsilon, sum(p < epsilon)))"
   ]
  },
  {
   "cell_type": "markdown",
   "metadata": {},
   "source": [
    "It can be noticed that we have obtained a poor F1-score. This is because the number of examples is much larger than the number of feature.\n",
    "In this case the **Multivariate Gaussian Distribution** model is worth to be considered.\n",
    "It captures correlations between features but is computational expensive. When it is obvious what feature combinations can capture the anomalies, it is advisable to first implement those with the original Normal Gaussian Distribution model."
   ]
  },
  {
   "cell_type": "markdown",
   "metadata": {},
   "source": [
    "## Multivariate Gaussian distribution"
   ]
  },
  {
   "cell_type": "code",
   "execution_count": 250,
   "metadata": {},
   "outputs": [
    {
     "name": "stderr",
     "output_type": "stream",
     "text": [
      "/home/pptr/anaconda3/envs/fastai/lib/python3.6/site-packages/ipykernel_launcher.py:27: RuntimeWarning: invalid value encountered in true_divide\n"
     ]
    },
    {
     "name": "stdout",
     "output_type": "stream",
     "text": [
      "F1-score=[0.55172414], epsilon=1.7464996396712342e-18, number_of_anomalies=[122]\n"
     ]
    }
   ],
   "source": [
    "from scipy.stats import multivariate_normal\n",
    "data = sio.loadmat('ex8data2.mat')\n",
    "X = data['X']\n",
    "Xval = data['Xval']\n",
    "yval = data['yval']\n",
    "\n",
    "mu, cov = estimateMultivariateGaussian(X.T)\n",
    "p = multivariate_normal.pdf(X, mean=mu, cov=cov).reshape(-1, 1)\n",
    "pval = multivariate_normal.pdf(Xval, mean=mu, cov=cov).reshape(-1, 1)\n",
    "epsilon, F1 = selectThreshold(yval, pval)\n",
    "print(\"F1-score={0}, epsilon={1}, number_of_anomalies={2}\".format(F1, epsilon, sum(p < epsilon)))"
   ]
  }
 ],
 "metadata": {
  "kernelspec": {
   "display_name": "Python 3",
   "language": "python",
   "name": "python3"
  },
  "language_info": {
   "codemirror_mode": {
    "name": "ipython",
    "version": 3
   },
   "file_extension": ".py",
   "mimetype": "text/x-python",
   "name": "python",
   "nbconvert_exporter": "python",
   "pygments_lexer": "ipython3",
   "version": "3.6.6"
  }
 },
 "nbformat": 4,
 "nbformat_minor": 2
}
