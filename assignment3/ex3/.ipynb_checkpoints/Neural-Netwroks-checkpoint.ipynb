{
 "cells": [
  {
   "cell_type": "markdown",
   "metadata": {},
   "source": [
    "# Neural Networks"
   ]
  },
  {
   "cell_type": "markdown",
   "metadata": {},
   "source": [
    "The task we need to accomplish consists in recognizing handwritten digits (0 to 9)."
   ]
  },
  {
   "cell_type": "markdown",
   "metadata": {},
   "source": [
    "We have already experimented with this challenge with Regularized Logistic Regression getting a global model accuracy of around 80.4%. We are going to implement a Neural Network end to end and see if we can beat the previous result. We will actually follow two steps:"
   ]
  },
  {
   "cell_type": "markdown",
   "metadata": {},
   "source": [
    "1. Implement Feed Forward Progragation and run a NN with pre-trained weights\n",
    "2. Implement the whole algorithm, hence Feed Forward Propagation (defining the relation between predictors and output) plus Back Propagation (which will enable us to learn the weights defined in the first step)."
   ]
  },
  {
   "cell_type": "markdown",
   "metadata": {},
   "source": [
    "### NN Representation: Forward Propagation"
   ]
  },
  {
   "cell_type": "markdown",
   "metadata": {},
   "source": [
    "<img src=\"img/NN.png\" alt=\"Neural Network representation\" style=\"width: 400px;\"/>"
   ]
  },
  {
   "cell_type": "code",
   "execution_count": 1,
   "metadata": {},
   "outputs": [],
   "source": [
    "import scipy.io as sio\n",
    "import random\n",
    "import numpy as np\n",
    "import pandas as pd\n",
    "import seaborn as sns\n",
    "import matplotlib.pyplot as plt"
   ]
  },
  {
   "cell_type": "markdown",
   "metadata": {},
   "source": [
    "## Functions"
   ]
  },
  {
   "cell_type": "code",
   "execution_count": 2,
   "metadata": {},
   "outputs": [],
   "source": [
    "def displayData(X):\n",
    "    fig = plt.figure(figsize=(8,8))\n",
    "    plt.title('100 Random Images from the data set')\n",
    "    indexes = random.sample(range(1, X.shape[0]), 100)\n",
    "    images = X[indexes,:]\n",
    "    for i in np.arange(10):\n",
    "        for j in np.arange(10):\n",
    "            ax = fig.add_subplot(10, 10, (10*j+i)+1)\n",
    "            ax.matshow(images[10*j+i,:].reshape(20,20), cmap = 'gray')\n",
    "            plt.xticks(np.array([]))\n",
    "            plt.yticks(np.array([]))\n",
    "    plt.show()\n",
    "\n",
    "    \n",
    "def displaySigleDigit(X):\n",
    "    fig = plt.figure(figsize=(3, 3))\n",
    "    ax = fig.add_subplot(1, 1, 1)\n",
    "    ax.matshow(X.reshape(20,20), cmap = 'gray')\n",
    "    plt.xticks(np.array([]))\n",
    "    plt.yticks(np.array([]))\n",
    "    plt.title('1 Random Digit from the data set')\n",
    "    plt.show()\n",
    "    \n",
    "\n",
    "def sigmoid(z):\n",
    "    return 1/(1+np.exp(-z))\n",
    "\n",
    "\n",
    "# Predict the label of an input given a trained neural network.\n",
    "#   p = predict(Theta1, Theta2, X) outputs the predicted label of X given the\n",
    "#   trained weights of a neural network (Theta1, Theta2)\n",
    "def predict(Theta1, Theta2, X):\n",
    "    m = X.shape[0]\n",
    "    num_labels = Theta2.shape[0]\n",
    "    # value to return\n",
    "    predictions = np.zeros((m, 1))\n",
    "    # add bias therm for first layer\n",
    "    a1 = np.c_[np.ones((m, 1)), X]\n",
    "    \n",
    "    # calculate a2 using sigmoid function\n",
    "    a2 = sigmoid(Theta1.dot(a1.T)).T\n",
    "    # add bias therm for second layer\n",
    "    a2 = np.c_[np.ones((a2.shape[0], 1)), a2]\n",
    "    \n",
    "    # calculate output (h == a3)\n",
    "    h = sigmoid(a2.dot(Theta2.T))\n",
    "    \n",
    "    # calculate prediction choosing the index of max argument for each row\n",
    "    predictions = np.argmax(h, axis=1) + 1\n",
    "    \n",
    "    return predictions"
   ]
  },
  {
   "cell_type": "markdown",
   "metadata": {},
   "source": [
    "Note: we will use some pre-trained weights (Theta1 and Theta2) in this part of exercise since we want just to do the Feed Forward Propagation. In the next section we will learn how to do Back Forward Propagation and hence how to learn the Neural Network weights."
   ]
  },
  {
   "cell_type": "code",
   "execution_count": 187,
   "metadata": {},
   "outputs": [
    {
     "name": "stdout",
     "output_type": "stream",
     "text": [
      "NN Accuracy:  97.52 %\n"
     ]
    }
   ],
   "source": [
    "mat = sio.loadmat('ex3data1.mat')\n",
    "weights = sio.loadmat('ex3weights.mat')\n",
    "X = mat['X']\n",
    "y = mat['y']\n",
    "\n",
    "Theta1 = weights['Theta1']\n",
    "Theta2 = weights['Theta2']\n",
    "\n",
    "predictions = predict(Theta1, Theta2, X)\n",
    "print(\"NN Accuracy: \", (sum(predictions.reshape(-1, 1) == y)[0] / y.shape[0]) * 100, \"%\")"
   ]
  },
  {
   "cell_type": "markdown",
   "metadata": {},
   "source": [
    "Here a random digit pictures is picked and Neural Network prediction on that picture is shown. \n",
    "\n",
    "Run this cell multiple times to see the effect!"
   ]
  },
  {
   "cell_type": "code",
   "execution_count": 188,
   "metadata": {
    "scrolled": true
   },
   "outputs": [
    {
     "data": {
      "image/png": "[encoded data removed]",
      "text/plain": [
       "<Figure size 216x216 with 1 Axes>"
      ]
     },
     "metadata": {},
     "output_type": "display_data"
    },
    {
     "name": "stdout",
     "output_type": "stream",
     "text": [
      "NN prediction:  9\n"
     ]
    }
   ],
   "source": [
    "rd = random.randint(0, X.shape[0])\n",
    "displaySigleDigit(X[rd, :])\n",
    "prediction = predict(Theta1, Theta2, X[rd, :].reshape(-1, 1).T)\n",
    "print(\"NN prediction: \", prediction[0])"
   ]
  }
 ],
 "metadata": {
  "kernelspec": {
   "display_name": "Python 3",
   "language": "python",
   "name": "python3"
  },
  "language_info": {
   "codemirror_mode": {
    "name": "ipython",
    "version": 3
   },
   "file_extension": ".py",
   "mimetype": "text/x-python",
   "name": "python",
   "nbconvert_exporter": "python",
   "pygments_lexer": "ipython3",
   "version": "3.6.6"
  }
 },
 "nbformat": 4,
 "nbformat_minor": 2
}
